{
 "cells": [
  {
   "cell_type": "code",
   "execution_count": 1,
   "metadata": {},
   "outputs": [],
   "source": [
    "import pandas as pd\n",
    "import requests\n",
    "from bs4 import BeautifulSoup\n",
    "import re"
   ]
  },
  {
   "cell_type": "code",
   "execution_count": 2,
   "metadata": {},
   "outputs": [],
   "source": [
    "\n",
    "\n",
    "#soup = read.html('/Users/brendan/Downloads/Players Advanced _ Stats _ NBA.com.html')\n",
    "\n",
    "htmlfile =  open(\"/Users/brendan/Downloads/Players Advanced _ Stats _ NBA.com4.html\", \"r\")\n",
    "index = htmlfile.read()\n",
    "S = BeautifulSoup(index, 'lxml')\n",
    "\n",
    "htmlfile2 =  open(\"/Users/brendan/Downloads/Players Traditional _ Stats _ NBA.com6.html\", \"r\")\n",
    "index2 = htmlfile2.read()\n",
    "S1 = BeautifulSoup(index2, 'lxml')\n",
    "\n"
   ]
  },
  {
   "cell_type": "code",
   "execution_count": 3,
   "metadata": {},
   "outputs": [],
   "source": [
    "divs = S.find_all('td', {\"class\": \"first\"})\n",
    "names = []\n",
    "for div in divs:\n",
    "    name_raw = str(div)\n",
    "    hits = re.finditer('(>)(.+?)(<)', name_raw)\n",
    "    name = [m.group(2) for m in hits]\n",
    "    name = name[0]\n",
    "    names.append(name)"
   ]
  },
  {
   "cell_type": "code",
   "execution_count": 4,
   "metadata": {},
   "outputs": [],
   "source": [
    "divs1 = S.find_all('tr')\n",
    "names = names[0:50]\n",
    "teams = []\n",
    "offrtgs = []\n",
    "defrtgs = []\n",
    "tspers = []\n",
    "\n",
    "for i in range(1,51):\n",
    "    #print(i)\n",
    "    row = divs1[i].find_all('td')\n",
    "\n",
    "    team_raw = str(row[2])\n",
    "    hits = re.finditer('(>)(.+?)(<)', team_raw)\n",
    "    team = [m.group(2) for m in hits]\n",
    "    team = team[0]\n",
    "    teams.append(team)\n",
    "\n",
    "    offrtg_raw = str(row[8])\n",
    "    hits = re.finditer('(>)(.+?)(<)', offrtg_raw)\n",
    "    offrtg = [m.group(2) for m in hits]\n",
    "    offrtg = offrtg[0]\n",
    "    offrtgs.append(offrtg)\n",
    "\n",
    "    defrtg_raw = str(row[9])\n",
    "    hits = re.finditer('(>)(.+?)(<)', defrtg_raw)\n",
    "    defrtg = [m.group(2) for m in hits]\n",
    "    defrtg = defrtg[0]\n",
    "    defrtgs.append(defrtg)    \n",
    "\n",
    "    tsper_raw = str(row[19])\n",
    "    hits = re.finditer('(>)(.+?)(<)', tsper_raw)\n",
    "    tsper = [m.group(2) for m in hits]\n",
    "    tsper= tsper[0]   \n",
    "    tspers.append(tsper)    \n"
   ]
  },
  {
   "cell_type": "code",
   "execution_count": 5,
   "metadata": {},
   "outputs": [],
   "source": [
    "divs2 = S1.find_all('tr')\n",
    "points = []\n",
    "\n",
    "for i in range(1,51):\n",
    "    #print(i)\n",
    "    row = divs2[i].find_all('td')\n",
    "\n",
    "    pts_raw = str(row[8])\n",
    "    hits = re.finditer('(>)(.+?)(<)', pts_raw)\n",
    "    pts = [m.group(2) for m in hits]\n",
    "    pts = pts[0]\n",
    "    points.append(pts)"
   ]
  },
  {
   "cell_type": "code",
   "execution_count": 6,
   "metadata": {},
   "outputs": [
    {
     "name": "stdout",
     "output_type": "stream",
     "text": [
      "['11.0', '10.7', '22.8', '20.3', '27.4', '22.0', '29.9', '30.3', '24.0', '27.9', '6.3', '17.1', '23.2', '26.9', '21.7', '20.2', '28.4', '15.3', '17.5', '20.1', '23.2', '23.2', '15.3', '18.3', '28.4', '17.2', '14.2', '21.1', '24.3', '24.4', '24.5', '13.0', '22.1', '25.5', '20.0', '26.8', '18.9', '18.5', '21.3', '14.7', '22.7', '21.4', '13.4', '25.9', '15.0', '30.6', '19.3', '23.6', '16.4', '19.1']\n"
     ]
    }
   ],
   "source": [
    "print(points)"
   ]
  },
  {
   "cell_type": "code",
   "execution_count": 7,
   "metadata": {},
   "outputs": [],
   "source": [
    "PlayerData = pd.DataFrame({'Name': names, 'Team': teams,'Points':points , 'OffensiveRating':offrtgs, 'DefensiveRating':defrtgs, 'TrueShootingPercentage':tspers})\n",
    "SelectPlayData = pd.DataFrame(columns = ['Name', 'Team', 'OffensiveRating', 'DefensiveRating', 'TrueShootingPercentage'])"
   ]
  },
  {
   "cell_type": "code",
   "execution_count": 8,
   "metadata": {},
   "outputs": [],
   "source": [
    "PlayerData.to_csv('RegSeasonData.csv')"
   ]
  },
  {
   "cell_type": "code",
   "execution_count": 9,
   "metadata": {},
   "outputs": [],
   "source": [
    "\n",
    "potplay = ['Jimmy Butler','Bam Adebayo','Giannis Antetokounmpo','Jrue Holiday','Pascal Siakam','Scottie Barnes','Jayson Tatum','Jaylen Brown','Kevin Durant','Kyrie Irving','Joel Embiid','James Harden','Trae Young','John Collins','Demar Derozan','Zach Lavine','Stephen Curry','Jordan Poole','Ja Morant','Desmond Bane','Rudy Gobert','Donovan Mitchell','Luka Doncic','Jalen Brunson','Deandre Ayton','Chris Paul','Karl-Anthony Towns','Anthony Edwards','Brandon Ingram','CJ McCollum','Nikola Jokic','Monte Morris']\n"
   ]
  },
  {
   "cell_type": "code",
   "execution_count": 10,
   "metadata": {},
   "outputs": [],
   "source": [
    "\n",
    "#i = 0\n",
    "for p in potplay:\n",
    "    abubu = PlayerData.loc[PlayerData['Name'] == p] \n",
    "    #SelectPlayData.loc[i-1] = abubu\n",
    "    SelectPlayData = pd.concat([SelectPlayData, abubu])\n",
    "    #i = i+1"
   ]
  },
  {
   "cell_type": "code",
   "execution_count": 11,
   "metadata": {},
   "outputs": [
    {
     "name": "stdout",
     "output_type": "stream",
     "text": [
      "                       Name Team Points OffensiveRating DefensiveRating  \\\n",
      "0            Zavier Simpson  OKC   11.0            98.6           125.1   \n",
      "1        Melvin Frazier Jr.  OKC   10.7            91.5           130.3   \n",
      "2             Pascal Siakam  TOR   22.8           114.3           109.6   \n",
      "3             Fred VanVleet  TOR   20.3           112.2           108.5   \n",
      "4              Kyrie Irving  BKN   27.4           118.9           113.8   \n",
      "5              James Harden  PHI   22.0           114.9           111.4   \n",
      "6              Kevin Durant  BKN   29.9           116.2           109.7   \n",
      "7              LeBron James  LAL   30.3           110.9           113.5   \n",
      "8            Damian Lillard  POR   24.0           113.0           114.8   \n",
      "9             DeMar DeRozan  CHI   27.9           113.1           112.0   \n",
      "10       Derrick Walton Jr.  DET    6.3           103.5           103.0   \n",
      "11               OG Anunoby  TOR   17.1           112.0           108.1   \n",
      "12             Bradley Beal  WAS   23.2           107.1           110.5   \n",
      "13             Jayson Tatum  BOS   26.9           115.5           103.4   \n",
      "14           Darius Garland  CLE   21.7           113.6           106.9   \n",
      "15            Miles Bridges  CHA   20.2           114.5           112.4   \n",
      "16              Luka Doncic  DAL   28.4           113.8           110.3   \n",
      "17           Scottie Barnes  TOR   15.3           110.2           108.4   \n",
      "18             Tyrese Maxey  PHI   17.5           113.3           109.7   \n",
      "19            Julius Randle  NYK   20.1           108.0           111.6   \n",
      "20             De'Aaron Fox  SAC   23.2           112.1           116.5   \n",
      "21            Anthony Davis  LAL   23.2           105.9           108.9   \n",
      "22        Tyrese Haliburton  IND   15.3           110.0           115.9   \n",
      "23           Gary Trent Jr.  TOR   18.3           113.5           110.2   \n",
      "24               Trae Young  ATL   28.4           117.2           114.9   \n",
      "25            Tobias Harris  PHI   17.2           113.2           110.0   \n",
      "26            Mikal Bridges  PHX   14.2           116.7           106.9   \n",
      "27          Dejounte Murray  SAS   21.1           112.9           111.0   \n",
      "28              Paul George  LAC   24.3           108.2           103.9   \n",
      "29              Zach LaVine  CHI   24.4           112.5           113.4   \n",
      "30  Shai Gilgeous-Alexander  OKC   24.5           106.6           113.0   \n",
      "31               Lonzo Ball  CHI   13.0           110.1           107.0   \n",
      "32              CJ McCollum  NOP   22.1           112.1           114.0   \n",
      "33            Stephen Curry  GSW   25.5           114.1           103.4   \n",
      "34               RJ Barrett  NYK   20.0           108.3           111.6   \n",
      "35             Devin Booker  PHX   26.8           117.6           108.1   \n",
      "36         Domantas Sabonis  SAC   18.9           109.5           110.1   \n",
      "37        Russell Westbrook  LAL   18.5           107.5           111.5   \n",
      "38          Anthony Edwards  MIN   21.3           114.6           110.6   \n",
      "39             Jaylen Hoard  OKC   14.7           101.8           119.1   \n",
      "40           Brandon Ingram  NOP   22.7           112.7           109.4   \n",
      "41             Jimmy Butler  MIA   21.4           114.4           108.4   \n",
      "42               Kyle Lowry  MIA   13.4           112.5           106.6   \n",
      "43         Donovan Mitchell  UTA   25.9           117.6           111.7   \n",
      "44              Evan Mobley  CLE   15.0           108.5           106.8   \n",
      "45              Joel Embiid  PHI   30.6           115.6           107.8   \n",
      "46             Terry Rozier  CHA   19.3           113.3           112.0   \n",
      "47             Jaylen Brown  BOS   23.6           113.5           103.8   \n",
      "48          Harrison Barnes  SAC   16.4           110.0           116.7   \n",
      "49          Malcolm Brogdon  IND   19.1           110.8           111.1   \n",
      "\n",
      "   TrueShootingPercentage  \n",
      "0                    40.6  \n",
      "1                    31.3  \n",
      "2                    56.5  \n",
      "3                    55.2  \n",
      "4                    59.2  \n",
      "5                    58.3  \n",
      "6                    63.4  \n",
      "7                    61.9  \n",
      "8                    55.0  \n",
      "9                    59.0  \n",
      "10                   34.2  \n",
      "11                   54.9  \n",
      "12                   53.9  \n",
      "13                   57.8  \n",
      "14                   57.6  \n",
      "15                   59.3  \n",
      "16                   57.1  \n",
      "17                   55.2  \n",
      "18                   59.4  \n",
      "19                   50.9  \n",
      "20                   54.9  \n",
      "21                   57.8  \n",
      "22                   59.5  \n",
      "23                   54.6  \n",
      "24                   60.3  \n",
      "25                   56.6  \n",
      "26                   62.7  \n",
      "27                   53.3  \n",
      "28                   53.8  \n",
      "29                   60.5  \n",
      "30                   55.7  \n",
      "31                   57.5  \n",
      "32                   55.3  \n",
      "33                   60.1  \n",
      "34                   51.1  \n",
      "35                   57.6  \n",
      "36                   63.7  \n",
      "37                   51.2  \n",
      "38                   56.0  \n",
      "39                   53.6  \n",
      "40                   55.4  \n",
      "41                   59.2  \n",
      "42                   60.0  \n",
      "43                   57.2  \n",
      "44                   54.9  \n",
      "45                   61.6  \n",
      "46                   56.6  \n",
      "47                   57.4  \n",
      "48                   62.3  \n",
      "49                   55.7  \n"
     ]
    }
   ],
   "source": [
    "#print(PlayerData['Name'])\n",
    "print(PlayerData)"
   ]
  }
 ],
 "metadata": {
  "interpreter": {
   "hash": "aee8b7b246df8f9039afb4144a1f6fd8d2ca17a180786b69acc140d282b71a49"
  },
  "kernelspec": {
   "display_name": "Python 3.7.9 64-bit",
   "name": "python3"
  },
  "language_info": {
   "codemirror_mode": {
    "name": "ipython",
    "version": 3
   },
   "file_extension": ".py",
   "mimetype": "text/x-python",
   "name": "python",
   "nbconvert_exporter": "python",
   "pygments_lexer": "ipython3",
   "version": "3.7.9"
  },
  "orig_nbformat": 4
 },
 "nbformat": 4,
 "nbformat_minor": 2
}
